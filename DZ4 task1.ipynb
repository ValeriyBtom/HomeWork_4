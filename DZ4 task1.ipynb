{
 "cells": [
  {
   "cell_type": "code",
   "execution_count": 1,
   "id": "2a047600-acfa-4a51-a3db-c113733e4790",
   "metadata": {},
   "outputs": [],
   "source": [
    "#purchase_log.txt.txt"
   ]
  },
  {
   "cell_type": "code",
   "execution_count": 43,
   "id": "ba784729-7d7f-49b9-9e17-5e0a46849b50",
   "metadata": {},
   "outputs": [
    {
     "name": "stdout",
     "output_type": "stream",
     "text": [
      "'1840e0b9d4' Продукты\n",
      "'4e4f90fcfb' Электроника\n",
      "'ert56734fe' Химия\n",
      "'sd547jh942' Бакалея\n",
      "'sd684mnev4' Инструмент\n"
     ]
    }
   ],
   "source": [
    "purchases = { } # обьявляем словарь\n",
    "with open(file='C:\\\\Users\\\\bva19\\\\purchase_log.txt.txt', mode='r', encoding='utf-8') as file: # с помощью менеджера with открываем файл для чтения\n",
    "    for product_group in file.readlines(): # в цикле итерируем каждую строку в файле отдельно\n",
    "        value=product_group.rsplit() # с помощью метода rsplit разделяем строку на подстроки разделенные пробелами\n",
    "        purchases[value[0]] = value[1] #добавляем ключи-значения в словарь (по условию задачи)\n",
    "        \n",
    "for key_purchases, values_purchases in purchases.items(): # итерируем пары ключи-значения в словаре с помощью метода items\n",
    "    print(f\"'{key_purchases}' {values_purchases}\") # выводим на печать\n"
   ]
  },
  {
   "cell_type": "code",
   "execution_count": null,
   "id": "20e95899-13a0-4e25-a348-564edd11b83c",
   "metadata": {},
   "outputs": [],
   "source": []
  },
  {
   "cell_type": "code",
   "execution_count": null,
   "id": "dd5ec736-18f4-4ea9-85d0-61274d100b49",
   "metadata": {},
   "outputs": [],
   "source": []
  }
 ],
 "metadata": {
  "kernelspec": {
   "display_name": "Python 3 (ipykernel)",
   "language": "python",
   "name": "python3"
  },
  "language_info": {
   "codemirror_mode": {
    "name": "ipython",
    "version": 3
   },
   "file_extension": ".py",
   "mimetype": "text/x-python",
   "name": "python",
   "nbconvert_exporter": "python",
   "pygments_lexer": "ipython3",
   "version": "3.12.7"
  }
 },
 "nbformat": 4,
 "nbformat_minor": 5
}

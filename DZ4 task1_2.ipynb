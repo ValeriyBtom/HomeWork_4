{
 "cells": [
  {
   "cell_type": "code",
   "execution_count": 12,
   "id": "ba784729-7d7f-49b9-9e17-5e0a46849b50",
   "metadata": {},
   "outputs": [],
   "source": [
    "\n",
    "import json\n",
    "purchases = {} # обьявляем словарь\n",
    "with open(file='purchase_log.txt', mode='r', encoding='utf-8') as file: # с помощью менеджера with открываем файл для чтения\n",
    "    for purchases_shop in file:  # итерируем элементы в файле\n",
    "        dict = json.loads(purchases_shop) # работаем со строками из файла file (type(dict) = dict)                         \n",
    "        for key_value in dict.items(): # итерируем значения пар ключ-значение в словаре dict\n",
    "            key = dict['user_id'] # key присваиваем значения ключа словаря dict\n",
    "            value = dict['category'] # value присваиваем значения переменной словаря dict\n",
    "            purchases.setdefault(key, value) # добавляем значение в словарь пары ключ-значение\n",
    "with open(file='visit_log.csv', mode='r') as file_visit_log: \n",
    "    with open(file='funnel.csv', mode='w') as file_funnel:\n",
    "        for visit in file_visit_log:\n",
    "            visit_user_id = visit.strip().split(',')\n",
    "            if visit_user_id[0] in purchases.keys():            \n",
    "                visit_info= visit.strip() + ',' + purchases[visit_user_id[0]]     \n",
    "            file_funnel.write(visit_info+\"\\n\")             \n",
    "        "
   ]
  },
  {
   "cell_type": "code",
   "execution_count": null,
   "id": "d0b1d76a-8497-4fb8-8bbe-7a56b8a77e32",
   "metadata": {},
   "outputs": [],
   "source": []
  },
  {
   "cell_type": "code",
   "execution_count": null,
   "id": "1f0b982a-1f58-4c60-ab61-8a4035335687",
   "metadata": {},
   "outputs": [],
   "source": []
  }
 ],
 "metadata": {
  "kernelspec": {
   "display_name": "Python 3 (ipykernel)",
   "language": "python",
   "name": "python3"
  },
  "language_info": {
   "codemirror_mode": {
    "name": "ipython",
    "version": 3
   },
   "file_extension": ".py",
   "mimetype": "text/x-python",
   "name": "python",
   "nbconvert_exporter": "python",
   "pygments_lexer": "ipython3",
   "version": "3.12.7"
  }
 },
 "nbformat": 4,
 "nbformat_minor": 5
}

{
 "cells": [
  {
   "cell_type": "code",
   "execution_count": 16,
   "id": "ba784729-7d7f-49b9-9e17-5e0a46849b50",
   "metadata": {},
   "outputs": [],
   "source": [
    "import json\n",
    "purchases = {}                                                         # обьявляем словарь\n",
    "with open(file='purchase_log.txt', mode='r', encoding='utf-8') as file: # с помощью менеджера with открываем файл для чтения\n",
    "    for purchases_shop in file:                                        # итерируем элементы в файле\n",
    "        dict = json.loads(purchases_shop)                              # работаем со строками из файла file (type(dict) = dict)                         \n",
    "        for key_value in dict.items():                                 # итерируем значения пар ключ-значение в словаре dict\n",
    "            key = dict['user_id']                                      # key присваиваем значения ключа словаря dict\n",
    "            value = dict['category']                                   # value присваиваем значения переменной словаря dict\n",
    "            purchases[key] = value                                     # добавляем значение в словарь пары ключ-значение\n",
    "with open(file='visit_log.csv', mode='r') as file_visit_log, open(file='funnel.csv', mode='w') as file_funnel: # Открываем файлы: для чтения и для записи\n",
    "        for visit in file_visit_log:                                   # в цикле идем по строкам файла\n",
    "            visit_user_id = visit.strip().split(',')                   # делим строку на подстроки по условия \",\"\n",
    "            if visit_user_id[0] in purchases.keys():                   # если есть значения подстроки с номером 0 в ключах словаря         \n",
    "                visit_info= visit.strip() + ',' + purchases[visit_user_id[0]]     # склеиваем значения в строке по условию задания\n",
    "                file_funnel.write(visit_info+\"\\n\")                     # записываем полученную строку в файл funnel.csv       \n",
    "        "
   ]
  },
  {
   "cell_type": "code",
   "execution_count": null,
   "id": "be5274f7-4c5f-438e-a12c-247dc0355c8c",
   "metadata": {},
   "outputs": [],
   "source": []
  }
 ],
 "metadata": {
  "kernelspec": {
   "display_name": "Python 3 (ipykernel)",
   "language": "python",
   "name": "python3"
  },
  "language_info": {
   "codemirror_mode": {
    "name": "ipython",
    "version": 3
   },
   "file_extension": ".py",
   "mimetype": "text/x-python",
   "name": "python",
   "nbconvert_exporter": "python",
   "pygments_lexer": "ipython3",
   "version": "3.12.7"
  }
 },
 "nbformat": 4,
 "nbformat_minor": 5
}
